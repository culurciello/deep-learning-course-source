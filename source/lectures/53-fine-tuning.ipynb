{
 "cells": [
  {
   "cell_type": "markdown",
   "metadata": {},
   "source": [
    "# unit 5.3 - Fine tuning a pre-trained Neural Network\n",
    "\n",
    "In many circumstances, you will want to create a neural network based on a small set of your own data. However, training a neural network from scratch can be computationally expensive and time-consuming. \n",
    "\n",
    "In this unit we will learn how to fine-tune a pre-trained neural network. This is useful if you have some data that is similar to the data that the pre-trained network was trained on, but not exactly the same. This technique uses a pre-trained neural network as a feature extractor, and then trains a new classifier on top of the extracted features.\n",
    "\n",
    "## An example of fine-tuning\n",
    "\n",
    "See [this example](https://deep-learning-course-source.readthedocs.io/en/latest/lectures/43-dataloaders.html#issues) as a starting point. "
   ]
  }
 ],
 "metadata": {
  "language_info": {
   "name": "python"
  }
 },
 "nbformat": 4,
 "nbformat_minor": 2
}
